{
  "nbformat": 4,
  "nbformat_minor": 0,
  "metadata": {
    "colab": {
      "provenance": [],
      "authorship_tag": "ABX9TyMMsl8wXoL01Uxv7yjBh6EG",
      "include_colab_link": true
    },
    "kernelspec": {
      "name": "python3",
      "display_name": "Python 3"
    },
    "language_info": {
      "name": "python"
    }
  },
  "cells": [
    {
      "cell_type": "markdown",
      "metadata": {
        "id": "view-in-github",
        "colab_type": "text"
      },
      "source": [
        "<a href=\"https://colab.research.google.com/github/Krishnateja1998/Krishnateja.github.io/blob/master/project_playground.ipynb\" target=\"_parent\"><img src=\"https://colab.research.google.com/assets/colab-badge.svg\" alt=\"Open In Colab\"/></a>"
      ]
    },
    {
      "cell_type": "code",
      "execution_count": 1,
      "metadata": {
        "id": "5wMrJgubQiRG"
      },
      "outputs": [],
      "source": [
        "import zipfile\n",
        "zipfile.ZipFile('project.zip').extractall('.')"
      ]
    },
    {
      "cell_type": "code",
      "source": [
        "# from dtsc5502 import hello_dtsc5502\n",
        "from dtsc5502.version import __version__\n",
        "import dtsc5502.statistics.descriptive as stats\n",
        "import dtsc5502.probabilities.functions as probs\n",
        "\n",
        "\n",
        "print(__version__)\n",
        "lst = [1,2,3]\n",
        "print(stats.descriptive.mean(lst))\n",
        "print(probs.functions.factorial(3))"
      ],
      "metadata": {
        "colab": {
          "base_uri": "https://localhost:8080/",
          "height": 290
        },
        "id": "H_6MsKuUZVEF",
        "outputId": "6304dfc1-14c5-446d-cf0d-011d34afc6bf"
      },
      "execution_count": 14,
      "outputs": [
        {
          "output_type": "error",
          "ename": "SyntaxError",
          "evalue": "ignored",
          "traceback": [
            "Traceback \u001b[0;36m(most recent call last)\u001b[0m:\n",
            "  File \u001b[1;32m\"/usr/local/lib/python3.10/dist-packages/IPython/core/interactiveshell.py\"\u001b[0m, line \u001b[1;32m3553\u001b[0m, in \u001b[1;35mrun_code\u001b[0m\n    exec(code_obj, self.user_global_ns, self.user_ns)\n",
            "\u001b[0;36m  File \u001b[0;32m\"<ipython-input-14-40c278dbe993>\"\u001b[0;36m, line \u001b[0;32m2\u001b[0;36m, in \u001b[0;35m<cell line: 2>\u001b[0;36m\u001b[0m\n\u001b[0;31m    from dtsc5502.version import __version__\u001b[0m\n",
            "\u001b[0;36m  File \u001b[0;32m\"/content/dtsc5502/__init__.py\"\u001b[0;36m, line \u001b[0;32m17\u001b[0m\n\u001b[0;31m    def calculate_mode(lst: list)-> float:\u001b[0m\n\u001b[0m                                   ^\u001b[0m\n\u001b[0;31mSyntaxError\u001b[0m\u001b[0;31m:\u001b[0m invalid non-printable character U+00A0\n"
          ]
        }
      ]
    },
    {
      "cell_type": "code",
      "source": [],
      "metadata": {
        "id": "rOp9Qxi3aDen"
      },
      "execution_count": null,
      "outputs": []
    }
  ]
}